{
 "cells": [
  {
   "cell_type": "code",
   "execution_count": 1,
   "metadata": {},
   "outputs": [],
   "source": [
    "import pandas as pd\n",
    "import numpy as np\n",
    "from matplotlib import pyplot as plt"
   ]
  },
  {
   "cell_type": "markdown",
   "metadata": {},
   "source": [
    "# Q1"
   ]
  },
  {
   "cell_type": "markdown",
   "metadata": {},
   "source": [
    "## 2015 female mean years df"
   ]
  },
  {
   "cell_type": "code",
   "execution_count": 2,
   "metadata": {},
   "outputs": [
    {
     "name": "stdout",
     "output_type": "stream",
     "text": [
      "(188, 3)\n"
     ]
    },
    {
     "data": {
      "text/html": [
       "<div>\n",
       "<style scoped>\n",
       "    .dataframe tbody tr th:only-of-type {\n",
       "        vertical-align: middle;\n",
       "    }\n",
       "\n",
       "    .dataframe tbody tr th {\n",
       "        vertical-align: top;\n",
       "    }\n",
       "\n",
       "    .dataframe thead th {\n",
       "        text-align: right;\n",
       "    }\n",
       "</style>\n",
       "<table border=\"1\" class=\"dataframe\">\n",
       "  <thead>\n",
       "    <tr style=\"text-align: right;\">\n",
       "      <th></th>\n",
       "      <th>geo</th>\n",
       "      <th>time</th>\n",
       "      <th>mean_years_in_school_women_25_to_34_years</th>\n",
       "    </tr>\n",
       "  </thead>\n",
       "  <tbody>\n",
       "    <tr>\n",
       "      <th>45</th>\n",
       "      <td>afg</td>\n",
       "      <td>2015</td>\n",
       "      <td>0.98</td>\n",
       "    </tr>\n",
       "    <tr>\n",
       "      <th>91</th>\n",
       "      <td>ago</td>\n",
       "      <td>2015</td>\n",
       "      <td>5.31</td>\n",
       "    </tr>\n",
       "    <tr>\n",
       "      <th>137</th>\n",
       "      <td>alb</td>\n",
       "      <td>2015</td>\n",
       "      <td>12.26</td>\n",
       "    </tr>\n",
       "    <tr>\n",
       "      <th>183</th>\n",
       "      <td>and</td>\n",
       "      <td>2015</td>\n",
       "      <td>15.13</td>\n",
       "    </tr>\n",
       "    <tr>\n",
       "      <th>229</th>\n",
       "      <td>are</td>\n",
       "      <td>2015</td>\n",
       "      <td>13.18</td>\n",
       "    </tr>\n",
       "  </tbody>\n",
       "</table>\n",
       "</div>"
      ],
      "text/plain": [
       "     geo  time  mean_years_in_school_women_25_to_34_years\n",
       "45   afg  2015                                       0.98\n",
       "91   ago  2015                                       5.31\n",
       "137  alb  2015                                      12.26\n",
       "183  and  2015                                      15.13\n",
       "229  are  2015                                      13.18"
      ]
     },
     "execution_count": 2,
     "metadata": {},
     "output_type": "execute_result"
    }
   ],
   "source": [
    "df_sch = pd.read_csv('dataset/ddf--gapminder--systema_globalis-master/ddf--datapoints--mean_years_in_school_women_25_to_34_years--by--geo--time.csv')\n",
    "df_sch = df_sch[df_sch['time'] == 2015]\n",
    "print(df_sch.shape)\n",
    "df_sch.head()"
   ]
  },
  {
   "cell_type": "markdown",
   "metadata": {},
   "source": [
    "## 2015 female population"
   ]
  },
  {
   "cell_type": "code",
   "execution_count": 3,
   "metadata": {},
   "outputs": [
    {
     "name": "stdout",
     "output_type": "stream",
     "text": [
      "(200, 3)\n"
     ]
    },
    {
     "data": {
      "text/html": [
       "<div>\n",
       "<style scoped>\n",
       "    .dataframe tbody tr th:only-of-type {\n",
       "        vertical-align: middle;\n",
       "    }\n",
       "\n",
       "    .dataframe tbody tr th {\n",
       "        vertical-align: top;\n",
       "    }\n",
       "\n",
       "    .dataframe thead th {\n",
       "        text-align: right;\n",
       "    }\n",
       "</style>\n",
       "<table border=\"1\" class=\"dataframe\">\n",
       "  <thead>\n",
       "    <tr style=\"text-align: right;\">\n",
       "      <th></th>\n",
       "      <th>geo</th>\n",
       "      <th>time</th>\n",
       "      <th>population_aged_20_39_years_female_percent</th>\n",
       "    </tr>\n",
       "  </thead>\n",
       "  <tbody>\n",
       "    <tr>\n",
       "      <th>13</th>\n",
       "      <td>abw</td>\n",
       "      <td>2015</td>\n",
       "      <td>23.45731</td>\n",
       "    </tr>\n",
       "    <tr>\n",
       "      <th>44</th>\n",
       "      <td>afg</td>\n",
       "      <td>2015</td>\n",
       "      <td>27.67341</td>\n",
       "    </tr>\n",
       "    <tr>\n",
       "      <th>75</th>\n",
       "      <td>ago</td>\n",
       "      <td>2015</td>\n",
       "      <td>27.12524</td>\n",
       "    </tr>\n",
       "    <tr>\n",
       "      <th>106</th>\n",
       "      <td>alb</td>\n",
       "      <td>2015</td>\n",
       "      <td>27.34373</td>\n",
       "    </tr>\n",
       "    <tr>\n",
       "      <th>137</th>\n",
       "      <td>are</td>\n",
       "      <td>2015</td>\n",
       "      <td>45.18014</td>\n",
       "    </tr>\n",
       "  </tbody>\n",
       "</table>\n",
       "</div>"
      ],
      "text/plain": [
       "     geo  time  population_aged_20_39_years_female_percent\n",
       "13   abw  2015                                    23.45731\n",
       "44   afg  2015                                    27.67341\n",
       "75   ago  2015                                    27.12524\n",
       "106  alb  2015                                    27.34373\n",
       "137  are  2015                                    45.18014"
      ]
     },
     "execution_count": 3,
     "metadata": {},
     "output_type": "execute_result"
    }
   ],
   "source": [
    "# female 20-39 ratio\n",
    "df_ratio = pd.read_csv('dataset/ddf--gapminder--systema_globalis-master/ddf--datapoints--population_aged_20_39_years_female_percent--by--geo--time.csv')\n",
    "df_ratio = df_ratio[df_ratio['time'] == 2015]\n",
    "print(df_ratio.shape)\n",
    "df_ratio.head()"
   ]
  },
  {
   "cell_type": "code",
   "execution_count": 4,
   "metadata": {},
   "outputs": [
    {
     "name": "stdout",
     "output_type": "stream",
     "text": [
      "(197, 3)\n"
     ]
    },
    {
     "data": {
      "text/html": [
       "<div>\n",
       "<style scoped>\n",
       "    .dataframe tbody tr th:only-of-type {\n",
       "        vertical-align: middle;\n",
       "    }\n",
       "\n",
       "    .dataframe tbody tr th {\n",
       "        vertical-align: top;\n",
       "    }\n",
       "\n",
       "    .dataframe thead th {\n",
       "        text-align: right;\n",
       "    }\n",
       "</style>\n",
       "<table border=\"1\" class=\"dataframe\">\n",
       "  <thead>\n",
       "    <tr style=\"text-align: right;\">\n",
       "      <th></th>\n",
       "      <th>geo</th>\n",
       "      <th>time</th>\n",
       "      <th>population_total</th>\n",
       "    </tr>\n",
       "  </thead>\n",
       "  <tbody>\n",
       "    <tr>\n",
       "      <th>215</th>\n",
       "      <td>afg</td>\n",
       "      <td>2015</td>\n",
       "      <td>33736494</td>\n",
       "    </tr>\n",
       "    <tr>\n",
       "      <th>516</th>\n",
       "      <td>ago</td>\n",
       "      <td>2015</td>\n",
       "      <td>27859305</td>\n",
       "    </tr>\n",
       "    <tr>\n",
       "      <th>817</th>\n",
       "      <td>alb</td>\n",
       "      <td>2015</td>\n",
       "      <td>2923352</td>\n",
       "    </tr>\n",
       "    <tr>\n",
       "      <th>1118</th>\n",
       "      <td>and</td>\n",
       "      <td>2015</td>\n",
       "      <td>78014</td>\n",
       "    </tr>\n",
       "    <tr>\n",
       "      <th>1419</th>\n",
       "      <td>are</td>\n",
       "      <td>2015</td>\n",
       "      <td>9154302</td>\n",
       "    </tr>\n",
       "  </tbody>\n",
       "</table>\n",
       "</div>"
      ],
      "text/plain": [
       "      geo  time  population_total\n",
       "215   afg  2015          33736494\n",
       "516   ago  2015          27859305\n",
       "817   alb  2015           2923352\n",
       "1118  and  2015             78014\n",
       "1419  are  2015           9154302"
      ]
     },
     "execution_count": 4,
     "metadata": {},
     "output_type": "execute_result"
    }
   ],
   "source": [
    "# total cnt\n",
    "df_total_cnt = pd.read_csv('dataset/ddf--gapminder--systema_globalis-master/ddf--datapoints--population_total--by--geo--time.csv')\n",
    "df_total_cnt = df_total_cnt[df_total_cnt['time'] == 2015]\n",
    "print(df_total_cnt.shape)\n",
    "df_total_cnt.head()"
   ]
  },
  {
   "cell_type": "code",
   "execution_count": 5,
   "metadata": {},
   "outputs": [
    {
     "name": "stdout",
     "output_type": "stream",
     "text": [
      "(200, 3)\n"
     ]
    },
    {
     "data": {
      "text/html": [
       "<div>\n",
       "<style scoped>\n",
       "    .dataframe tbody tr th:only-of-type {\n",
       "        vertical-align: middle;\n",
       "    }\n",
       "\n",
       "    .dataframe tbody tr th {\n",
       "        vertical-align: top;\n",
       "    }\n",
       "\n",
       "    .dataframe thead th {\n",
       "        text-align: right;\n",
       "    }\n",
       "</style>\n",
       "<table border=\"1\" class=\"dataframe\">\n",
       "  <thead>\n",
       "    <tr style=\"text-align: right;\">\n",
       "      <th></th>\n",
       "      <th>geo</th>\n",
       "      <th>time</th>\n",
       "      <th>population_aged_20_39_years_male_percent</th>\n",
       "    </tr>\n",
       "  </thead>\n",
       "  <tbody>\n",
       "    <tr>\n",
       "      <th>13</th>\n",
       "      <td>abw</td>\n",
       "      <td>2015</td>\n",
       "      <td>24.47124</td>\n",
       "    </tr>\n",
       "    <tr>\n",
       "      <th>44</th>\n",
       "      <td>afg</td>\n",
       "      <td>2015</td>\n",
       "      <td>28.45191</td>\n",
       "    </tr>\n",
       "    <tr>\n",
       "      <th>75</th>\n",
       "      <td>ago</td>\n",
       "      <td>2015</td>\n",
       "      <td>26.83793</td>\n",
       "    </tr>\n",
       "    <tr>\n",
       "      <th>106</th>\n",
       "      <td>alb</td>\n",
       "      <td>2015</td>\n",
       "      <td>29.34722</td>\n",
       "    </tr>\n",
       "    <tr>\n",
       "      <th>137</th>\n",
       "      <td>are</td>\n",
       "      <td>2015</td>\n",
       "      <td>55.87304</td>\n",
       "    </tr>\n",
       "  </tbody>\n",
       "</table>\n",
       "</div>"
      ],
      "text/plain": [
       "     geo  time  population_aged_20_39_years_male_percent\n",
       "13   abw  2015                                  24.47124\n",
       "44   afg  2015                                  28.45191\n",
       "75   ago  2015                                  26.83793\n",
       "106  alb  2015                                  29.34722\n",
       "137  are  2015                                  55.87304"
      ]
     },
     "execution_count": 5,
     "metadata": {},
     "output_type": "execute_result"
    }
   ],
   "source": [
    "# male 20-39 ratio\n",
    "df_male_ratio = pd.read_csv('dataset/ddf--gapminder--systema_globalis-master/ddf--datapoints--population_aged_20_39_years_male_percent--by--geo--time.csv')\n",
    "df_male_ratio = df_male_ratio[df_male_ratio['time'] == 2015]\n",
    "print(df_male_ratio.shape)\n",
    "df_male_ratio.head()"
   ]
  },
  {
   "cell_type": "code",
   "execution_count": 6,
   "metadata": {},
   "outputs": [
    {
     "name": "stdout",
     "output_type": "stream",
     "text": [
      "(200, 3)\n"
     ]
    },
    {
     "data": {
      "text/html": [
       "<div>\n",
       "<style scoped>\n",
       "    .dataframe tbody tr th:only-of-type {\n",
       "        vertical-align: middle;\n",
       "    }\n",
       "\n",
       "    .dataframe tbody tr th {\n",
       "        vertical-align: top;\n",
       "    }\n",
       "\n",
       "    .dataframe thead th {\n",
       "        text-align: right;\n",
       "    }\n",
       "</style>\n",
       "<table border=\"1\" class=\"dataframe\">\n",
       "  <thead>\n",
       "    <tr style=\"text-align: right;\">\n",
       "      <th></th>\n",
       "      <th>geo</th>\n",
       "      <th>time</th>\n",
       "      <th>population_aged_20_39_years_both_sexes_percent</th>\n",
       "    </tr>\n",
       "  </thead>\n",
       "  <tbody>\n",
       "    <tr>\n",
       "      <th>13</th>\n",
       "      <td>abw</td>\n",
       "      <td>2015</td>\n",
       "      <td>23.93882</td>\n",
       "    </tr>\n",
       "    <tr>\n",
       "      <th>44</th>\n",
       "      <td>afg</td>\n",
       "      <td>2015</td>\n",
       "      <td>28.07470</td>\n",
       "    </tr>\n",
       "    <tr>\n",
       "      <th>75</th>\n",
       "      <td>ago</td>\n",
       "      <td>2015</td>\n",
       "      <td>26.98442</td>\n",
       "    </tr>\n",
       "    <tr>\n",
       "      <th>106</th>\n",
       "      <td>alb</td>\n",
       "      <td>2015</td>\n",
       "      <td>28.35529</td>\n",
       "    </tr>\n",
       "    <tr>\n",
       "      <th>137</th>\n",
       "      <td>are</td>\n",
       "      <td>2015</td>\n",
       "      <td>53.00008</td>\n",
       "    </tr>\n",
       "  </tbody>\n",
       "</table>\n",
       "</div>"
      ],
      "text/plain": [
       "     geo  time  population_aged_20_39_years_both_sexes_percent\n",
       "13   abw  2015                                        23.93882\n",
       "44   afg  2015                                        28.07470\n",
       "75   ago  2015                                        26.98442\n",
       "106  alb  2015                                        28.35529\n",
       "137  are  2015                                        53.00008"
      ]
     },
     "execution_count": 6,
     "metadata": {},
     "output_type": "execute_result"
    }
   ],
   "source": [
    "# 20-39 ratio\n",
    "df_both_ratio = pd.read_csv('dataset/ddf--gapminder--systema_globalis-master/ddf--datapoints--population_aged_20_39_years_both_sexes_percent--by--geo--time.csv')\n",
    "df_both_ratio = df_both_ratio[df_both_ratio['time'] == 2015]\n",
    "print(df_both_ratio.shape)\n",
    "df_both_ratio.head()"
   ]
  },
  {
   "cell_type": "code",
   "execution_count": 7,
   "metadata": {},
   "outputs": [
    {
     "data": {
      "text/html": [
       "<div>\n",
       "<style scoped>\n",
       "    .dataframe tbody tr th:only-of-type {\n",
       "        vertical-align: middle;\n",
       "    }\n",
       "\n",
       "    .dataframe tbody tr th {\n",
       "        vertical-align: top;\n",
       "    }\n",
       "\n",
       "    .dataframe thead th {\n",
       "        text-align: right;\n",
       "    }\n",
       "</style>\n",
       "<table border=\"1\" class=\"dataframe\">\n",
       "  <thead>\n",
       "    <tr style=\"text-align: right;\">\n",
       "      <th></th>\n",
       "      <th>geo</th>\n",
       "      <th>time</th>\n",
       "      <th>population_aged_20_39_years_male_percent</th>\n",
       "      <th>population_aged_20_39_years_female_percent</th>\n",
       "      <th>population_aged_20_39_years_both_sexes_percent</th>\n",
       "      <th>fm_ratio</th>\n",
       "    </tr>\n",
       "  </thead>\n",
       "  <tbody>\n",
       "    <tr>\n",
       "      <th>0</th>\n",
       "      <td>abw</td>\n",
       "      <td>2015</td>\n",
       "      <td>24.47124</td>\n",
       "      <td>23.45731</td>\n",
       "      <td>23.93882</td>\n",
       "      <td>0.525105</td>\n",
       "    </tr>\n",
       "    <tr>\n",
       "      <th>1</th>\n",
       "      <td>afg</td>\n",
       "      <td>2015</td>\n",
       "      <td>28.45191</td>\n",
       "      <td>27.67341</td>\n",
       "      <td>28.07470</td>\n",
       "      <td>0.484534</td>\n",
       "    </tr>\n",
       "    <tr>\n",
       "      <th>2</th>\n",
       "      <td>ago</td>\n",
       "      <td>2015</td>\n",
       "      <td>26.83793</td>\n",
       "      <td>27.12524</td>\n",
       "      <td>26.98442</td>\n",
       "      <td>0.509867</td>\n",
       "    </tr>\n",
       "    <tr>\n",
       "      <th>3</th>\n",
       "      <td>alb</td>\n",
       "      <td>2015</td>\n",
       "      <td>29.34722</td>\n",
       "      <td>27.34373</td>\n",
       "      <td>28.35529</td>\n",
       "      <td>0.495101</td>\n",
       "    </tr>\n",
       "    <tr>\n",
       "      <th>4</th>\n",
       "      <td>are</td>\n",
       "      <td>2015</td>\n",
       "      <td>55.87304</td>\n",
       "      <td>45.18014</td>\n",
       "      <td>53.00008</td>\n",
       "      <td>0.268679</td>\n",
       "    </tr>\n",
       "  </tbody>\n",
       "</table>\n",
       "</div>"
      ],
      "text/plain": [
       "   geo  time  population_aged_20_39_years_male_percent  \\\n",
       "0  abw  2015                                  24.47124   \n",
       "1  afg  2015                                  28.45191   \n",
       "2  ago  2015                                  26.83793   \n",
       "3  alb  2015                                  29.34722   \n",
       "4  are  2015                                  55.87304   \n",
       "\n",
       "   population_aged_20_39_years_female_percent  \\\n",
       "0                                    23.45731   \n",
       "1                                    27.67341   \n",
       "2                                    27.12524   \n",
       "3                                    27.34373   \n",
       "4                                    45.18014   \n",
       "\n",
       "   population_aged_20_39_years_both_sexes_percent  fm_ratio  \n",
       "0                                        23.93882  0.525105  \n",
       "1                                        28.07470  0.484534  \n",
       "2                                        26.98442  0.509867  \n",
       "3                                        28.35529  0.495101  \n",
       "4                                        53.00008  0.268679  "
      ]
     },
     "execution_count": 7,
     "metadata": {},
     "output_type": "execute_result"
    }
   ],
   "source": [
    "# female vs male ratio\n",
    "df_fm_ratio = df_male_ratio.merge(df_ratio).merge(df_both_ratio)\n",
    "df_fm_ratio['fm_ratio'] = \\\n",
    "    ((df_fm_ratio.population_aged_20_39_years_both_sexes_percent -  df_fm_ratio.population_aged_20_39_years_male_percent) /\n",
    "     (df_fm_ratio.population_aged_20_39_years_female_percent - df_fm_ratio.population_aged_20_39_years_male_percent))\n",
    "df_fm_ratio.head()"
   ]
  },
  {
   "cell_type": "markdown",
   "metadata": {},
   "source": [
    "# female count"
   ]
  },
  {
   "cell_type": "code",
   "execution_count": 8,
   "metadata": {},
   "outputs": [
    {
     "data": {
      "text/html": [
       "<div>\n",
       "<style scoped>\n",
       "    .dataframe tbody tr th:only-of-type {\n",
       "        vertical-align: middle;\n",
       "    }\n",
       "\n",
       "    .dataframe tbody tr th {\n",
       "        vertical-align: top;\n",
       "    }\n",
       "\n",
       "    .dataframe thead th {\n",
       "        text-align: right;\n",
       "    }\n",
       "</style>\n",
       "<table border=\"1\" class=\"dataframe\">\n",
       "  <thead>\n",
       "    <tr style=\"text-align: right;\">\n",
       "      <th></th>\n",
       "      <th>geo</th>\n",
       "      <th>time</th>\n",
       "      <th>population_total</th>\n",
       "      <th>fm_ratio</th>\n",
       "      <th>female_total</th>\n",
       "    </tr>\n",
       "  </thead>\n",
       "  <tbody>\n",
       "    <tr>\n",
       "      <th>0</th>\n",
       "      <td>afg</td>\n",
       "      <td>2015</td>\n",
       "      <td>33736494</td>\n",
       "      <td>0.484534</td>\n",
       "      <td>16346490</td>\n",
       "    </tr>\n",
       "    <tr>\n",
       "      <th>1</th>\n",
       "      <td>ago</td>\n",
       "      <td>2015</td>\n",
       "      <td>27859305</td>\n",
       "      <td>0.509867</td>\n",
       "      <td>14204551</td>\n",
       "    </tr>\n",
       "    <tr>\n",
       "      <th>2</th>\n",
       "      <td>alb</td>\n",
       "      <td>2015</td>\n",
       "      <td>2923352</td>\n",
       "      <td>0.495101</td>\n",
       "      <td>1447354</td>\n",
       "    </tr>\n",
       "    <tr>\n",
       "      <th>3</th>\n",
       "      <td>are</td>\n",
       "      <td>2015</td>\n",
       "      <td>9154302</td>\n",
       "      <td>0.268679</td>\n",
       "      <td>2459570</td>\n",
       "    </tr>\n",
       "    <tr>\n",
       "      <th>4</th>\n",
       "      <td>arg</td>\n",
       "      <td>2015</td>\n",
       "      <td>43417765</td>\n",
       "      <td>0.510679</td>\n",
       "      <td>22172542</td>\n",
       "    </tr>\n",
       "  </tbody>\n",
       "</table>\n",
       "</div>"
      ],
      "text/plain": [
       "   geo  time  population_total  fm_ratio  female_total\n",
       "0  afg  2015          33736494  0.484534      16346490\n",
       "1  ago  2015          27859305  0.509867      14204551\n",
       "2  alb  2015           2923352  0.495101       1447354\n",
       "3  are  2015           9154302  0.268679       2459570\n",
       "4  arg  2015          43417765  0.510679      22172542"
      ]
     },
     "execution_count": 8,
     "metadata": {},
     "output_type": "execute_result"
    }
   ],
   "source": [
    "# female count\n",
    "df_cnt = df_total_cnt.merge(df_fm_ratio[['geo', 'time', 'fm_ratio']], on=['geo', 'time'], how='inner')\n",
    "df_cnt['female_total'] = (df_cnt['population_total'] * df_cnt['fm_ratio']).astype(int)\n",
    "df_cnt.head()"
   ]
  },
  {
   "cell_type": "markdown",
   "metadata": {},
   "source": [
    "# female edu avg"
   ]
  },
  {
   "cell_type": "code",
   "execution_count": 9,
   "metadata": {},
   "outputs": [
    {
     "data": {
      "text/html": [
       "<div>\n",
       "<style scoped>\n",
       "    .dataframe tbody tr th:only-of-type {\n",
       "        vertical-align: middle;\n",
       "    }\n",
       "\n",
       "    .dataframe tbody tr th {\n",
       "        vertical-align: top;\n",
       "    }\n",
       "\n",
       "    .dataframe thead th {\n",
       "        text-align: right;\n",
       "    }\n",
       "</style>\n",
       "<table border=\"1\" class=\"dataframe\">\n",
       "  <thead>\n",
       "    <tr style=\"text-align: right;\">\n",
       "      <th></th>\n",
       "      <th>geo</th>\n",
       "      <th>time</th>\n",
       "      <th>mean_years_in_school_women_25_to_34_years</th>\n",
       "      <th>female_total</th>\n",
       "    </tr>\n",
       "  </thead>\n",
       "  <tbody>\n",
       "    <tr>\n",
       "      <th>0</th>\n",
       "      <td>afg</td>\n",
       "      <td>2015</td>\n",
       "      <td>0.98</td>\n",
       "      <td>16346490</td>\n",
       "    </tr>\n",
       "    <tr>\n",
       "      <th>1</th>\n",
       "      <td>ago</td>\n",
       "      <td>2015</td>\n",
       "      <td>5.31</td>\n",
       "      <td>14204551</td>\n",
       "    </tr>\n",
       "    <tr>\n",
       "      <th>2</th>\n",
       "      <td>alb</td>\n",
       "      <td>2015</td>\n",
       "      <td>12.26</td>\n",
       "      <td>1447354</td>\n",
       "    </tr>\n",
       "    <tr>\n",
       "      <th>3</th>\n",
       "      <td>are</td>\n",
       "      <td>2015</td>\n",
       "      <td>13.18</td>\n",
       "      <td>2459570</td>\n",
       "    </tr>\n",
       "    <tr>\n",
       "      <th>4</th>\n",
       "      <td>arg</td>\n",
       "      <td>2015</td>\n",
       "      <td>13.00</td>\n",
       "      <td>22172542</td>\n",
       "    </tr>\n",
       "  </tbody>\n",
       "</table>\n",
       "</div>"
      ],
      "text/plain": [
       "   geo  time  mean_years_in_school_women_25_to_34_years  female_total\n",
       "0  afg  2015                                       0.98      16346490\n",
       "1  ago  2015                                       5.31      14204551\n",
       "2  alb  2015                                      12.26       1447354\n",
       "3  are  2015                                      13.18       2459570\n",
       "4  arg  2015                                      13.00      22172542"
      ]
     },
     "execution_count": 9,
     "metadata": {},
     "output_type": "execute_result"
    }
   ],
   "source": [
    "df_avg = df_sch.merge(df_cnt[['geo', 'time', 'female_total']], on=['geo', 'time'])\n",
    "df_avg.head()"
   ]
  },
  {
   "cell_type": "code",
   "execution_count": 10,
   "metadata": {},
   "outputs": [
    {
     "data": {
      "text/plain": [
       "9.176794468159336"
      ]
     },
     "execution_count": 10,
     "metadata": {},
     "output_type": "execute_result"
    }
   ],
   "source": [
    "sum(df_avg.mean_years_in_school_women_25_to_34_years * df_avg.female_total) / sum(df_avg.female_total)"
   ]
  },
  {
   "cell_type": "markdown",
   "metadata": {},
   "source": [
    "# by income"
   ]
  },
  {
   "cell_type": "code",
   "execution_count": 12,
   "metadata": {},
   "outputs": [
    {
     "name": "stdout",
     "output_type": "stream",
     "text": [
      "(214, 2)\n"
     ]
    },
    {
     "data": {
      "text/html": [
       "<div>\n",
       "<style scoped>\n",
       "    .dataframe tbody tr th:only-of-type {\n",
       "        vertical-align: middle;\n",
       "    }\n",
       "\n",
       "    .dataframe tbody tr th {\n",
       "        vertical-align: top;\n",
       "    }\n",
       "\n",
       "    .dataframe thead th {\n",
       "        text-align: right;\n",
       "    }\n",
       "</style>\n",
       "<table border=\"1\" class=\"dataframe\">\n",
       "  <thead>\n",
       "    <tr style=\"text-align: right;\">\n",
       "      <th></th>\n",
       "      <th>country</th>\n",
       "      <th>income_groups</th>\n",
       "    </tr>\n",
       "  </thead>\n",
       "  <tbody>\n",
       "    <tr>\n",
       "      <th>1</th>\n",
       "      <td>abw</td>\n",
       "      <td>high_income</td>\n",
       "    </tr>\n",
       "    <tr>\n",
       "      <th>2</th>\n",
       "      <td>afg</td>\n",
       "      <td>low_income</td>\n",
       "    </tr>\n",
       "    <tr>\n",
       "      <th>3</th>\n",
       "      <td>ago</td>\n",
       "      <td>upper_middle_income</td>\n",
       "    </tr>\n",
       "    <tr>\n",
       "      <th>7</th>\n",
       "      <td>alb</td>\n",
       "      <td>upper_middle_income</td>\n",
       "    </tr>\n",
       "    <tr>\n",
       "      <th>8</th>\n",
       "      <td>and</td>\n",
       "      <td>high_income</td>\n",
       "    </tr>\n",
       "  </tbody>\n",
       "</table>\n",
       "</div>"
      ],
      "text/plain": [
       "  country        income_groups\n",
       "1     abw          high_income\n",
       "2     afg           low_income\n",
       "3     ago  upper_middle_income\n",
       "7     alb  upper_middle_income\n",
       "8     and          high_income"
      ]
     },
     "execution_count": 12,
     "metadata": {},
     "output_type": "execute_result"
    }
   ],
   "source": [
    "df_income = pd.read_csv('dataset/ddf--gapminder--systema_globalis-master/ddf--entities--geo--country.csv')\n",
    "df_income = df_income[['country', 'income_groups']]\n",
    "df_income = df_income[~df_income['income_groups'].isna()]\n",
    "print(df_income.shape)\n",
    "df_income.head()"
   ]
  },
  {
   "cell_type": "code",
   "execution_count": 13,
   "metadata": {},
   "outputs": [
    {
     "data": {
      "text/html": [
       "<div>\n",
       "<style scoped>\n",
       "    .dataframe tbody tr th:only-of-type {\n",
       "        vertical-align: middle;\n",
       "    }\n",
       "\n",
       "    .dataframe tbody tr th {\n",
       "        vertical-align: top;\n",
       "    }\n",
       "\n",
       "    .dataframe thead th {\n",
       "        text-align: right;\n",
       "    }\n",
       "</style>\n",
       "<table border=\"1\" class=\"dataframe\">\n",
       "  <thead>\n",
       "    <tr style=\"text-align: right;\">\n",
       "      <th></th>\n",
       "      <th>geo</th>\n",
       "      <th>time</th>\n",
       "      <th>mean_years_in_school_women_25_to_34_years</th>\n",
       "      <th>female_total</th>\n",
       "      <th>country</th>\n",
       "      <th>income_groups</th>\n",
       "    </tr>\n",
       "  </thead>\n",
       "  <tbody>\n",
       "    <tr>\n",
       "      <th>0</th>\n",
       "      <td>afg</td>\n",
       "      <td>2015</td>\n",
       "      <td>0.98</td>\n",
       "      <td>16346490</td>\n",
       "      <td>afg</td>\n",
       "      <td>low_income</td>\n",
       "    </tr>\n",
       "    <tr>\n",
       "      <th>1</th>\n",
       "      <td>ago</td>\n",
       "      <td>2015</td>\n",
       "      <td>5.31</td>\n",
       "      <td>14204551</td>\n",
       "      <td>ago</td>\n",
       "      <td>upper_middle_income</td>\n",
       "    </tr>\n",
       "    <tr>\n",
       "      <th>2</th>\n",
       "      <td>alb</td>\n",
       "      <td>2015</td>\n",
       "      <td>12.26</td>\n",
       "      <td>1447354</td>\n",
       "      <td>alb</td>\n",
       "      <td>upper_middle_income</td>\n",
       "    </tr>\n",
       "    <tr>\n",
       "      <th>3</th>\n",
       "      <td>are</td>\n",
       "      <td>2015</td>\n",
       "      <td>13.18</td>\n",
       "      <td>2459570</td>\n",
       "      <td>are</td>\n",
       "      <td>high_income</td>\n",
       "    </tr>\n",
       "    <tr>\n",
       "      <th>4</th>\n",
       "      <td>arg</td>\n",
       "      <td>2015</td>\n",
       "      <td>13.00</td>\n",
       "      <td>22172542</td>\n",
       "      <td>arg</td>\n",
       "      <td>upper_middle_income</td>\n",
       "    </tr>\n",
       "  </tbody>\n",
       "</table>\n",
       "</div>"
      ],
      "text/plain": [
       "   geo  time  mean_years_in_school_women_25_to_34_years  female_total country  \\\n",
       "0  afg  2015                                       0.98      16346490     afg   \n",
       "1  ago  2015                                       5.31      14204551     ago   \n",
       "2  alb  2015                                      12.26       1447354     alb   \n",
       "3  are  2015                                      13.18       2459570     are   \n",
       "4  arg  2015                                      13.00      22172542     arg   \n",
       "\n",
       "         income_groups  \n",
       "0           low_income  \n",
       "1  upper_middle_income  \n",
       "2  upper_middle_income  \n",
       "3          high_income  \n",
       "4  upper_middle_income  "
      ]
     },
     "execution_count": 13,
     "metadata": {},
     "output_type": "execute_result"
    }
   ],
   "source": [
    "df_grouped = df_avg.merge(df_income, left_on='geo', right_on='country')\n",
    "df_grouped.head()"
   ]
  },
  {
   "cell_type": "code",
   "execution_count": 14,
   "metadata": {},
   "outputs": [],
   "source": [
    "df_income_index = pd.read_csv('dataset/ddf--gapminder--systema_globalis-master/ddf--entities--geo--income_groups.csv')\n",
    "df_income_index = df_income_index[['income_groups', 'rank']]"
   ]
  },
  {
   "cell_type": "code",
   "execution_count": 15,
   "metadata": {},
   "outputs": [
    {
     "data": {
      "text/html": [
       "<div>\n",
       "<style scoped>\n",
       "    .dataframe tbody tr th:only-of-type {\n",
       "        vertical-align: middle;\n",
       "    }\n",
       "\n",
       "    .dataframe tbody tr th {\n",
       "        vertical-align: top;\n",
       "    }\n",
       "\n",
       "    .dataframe thead th {\n",
       "        text-align: right;\n",
       "    }\n",
       "</style>\n",
       "<table border=\"1\" class=\"dataframe\">\n",
       "  <thead>\n",
       "    <tr style=\"text-align: right;\">\n",
       "      <th></th>\n",
       "      <th>income_groups</th>\n",
       "      <th>time</th>\n",
       "      <th>mean_years_in_school_women_25_to_34_years</th>\n",
       "      <th>female_total</th>\n",
       "      <th>total_years</th>\n",
       "      <th>avg_years</th>\n",
       "      <th>rank</th>\n",
       "    </tr>\n",
       "  </thead>\n",
       "  <tbody>\n",
       "    <tr>\n",
       "      <th>0</th>\n",
       "      <td>high_income</td>\n",
       "      <td>102765</td>\n",
       "      <td>695.95</td>\n",
       "      <td>648661597</td>\n",
       "      <td>9.436578e+09</td>\n",
       "      <td>14.547768</td>\n",
       "      <td>1</td>\n",
       "    </tr>\n",
       "    <tr>\n",
       "      <th>3</th>\n",
       "      <td>upper_middle_income</td>\n",
       "      <td>100750</td>\n",
       "      <td>557.33</td>\n",
       "      <td>1228797175</td>\n",
       "      <td>1.240386e+10</td>\n",
       "      <td>10.094310</td>\n",
       "      <td>2</td>\n",
       "    </tr>\n",
       "    <tr>\n",
       "      <th>2</th>\n",
       "      <td>lower_middle_income</td>\n",
       "      <td>94705</td>\n",
       "      <td>400.36</td>\n",
       "      <td>1300333249</td>\n",
       "      <td>9.115873e+09</td>\n",
       "      <td>7.010413</td>\n",
       "      <td>3</td>\n",
       "    </tr>\n",
       "    <tr>\n",
       "      <th>1</th>\n",
       "      <td>low_income</td>\n",
       "      <td>72540</td>\n",
       "      <td>179.51</td>\n",
       "      <td>460869758</td>\n",
       "      <td>2.434941e+09</td>\n",
       "      <td>5.283359</td>\n",
       "      <td>4</td>\n",
       "    </tr>\n",
       "  </tbody>\n",
       "</table>\n",
       "</div>"
      ],
      "text/plain": [
       "         income_groups    time  mean_years_in_school_women_25_to_34_years  \\\n",
       "0          high_income  102765                                     695.95   \n",
       "3  upper_middle_income  100750                                     557.33   \n",
       "2  lower_middle_income   94705                                     400.36   \n",
       "1           low_income   72540                                     179.51   \n",
       "\n",
       "   female_total   total_years  avg_years  rank  \n",
       "0     648661597  9.436578e+09  14.547768     1  \n",
       "3    1228797175  1.240386e+10  10.094310     2  \n",
       "2    1300333249  9.115873e+09   7.010413     3  \n",
       "1     460869758  2.434941e+09   5.283359     4  "
      ]
     },
     "execution_count": 15,
     "metadata": {},
     "output_type": "execute_result"
    }
   ],
   "source": [
    "df_grouped['total_years'] = df_grouped.mean_years_in_school_women_25_to_34_years * df_grouped.female_total\n",
    "df_grouped_sum = df_grouped.groupby('income_groups').sum()\n",
    "df_grouped_sum['avg_years'] = df_grouped_sum['total_years'] / df_grouped_sum.female_total\n",
    "df_grouped_sum = df_grouped_sum.reset_index()\n",
    "df_grouped_sum =  df_grouped_sum.merge(df_income_index).sort_values(by=['rank'])\n",
    "df_grouped_sum"
   ]
  },
  {
   "cell_type": "code",
   "execution_count": 16,
   "metadata": {},
   "outputs": [
    {
     "data": {
      "text/plain": [
       "<matplotlib.axes._subplots.AxesSubplot at 0x7f60fb6fe2b0>"
      ]
     },
     "execution_count": 16,
     "metadata": {},
     "output_type": "execute_result"
    },
    {
     "data": {
      "image/png": "[encoded data removed]",
      "text/plain": [
       "<Figure size 432x288 with 1 Axes>"
      ]
     },
     "metadata": {
      "needs_background": "light"
     },
     "output_type": "display_data"
    }
   ],
   "source": [
    "df_grouped_sum.plot('income_groups', 'avg_years', kind='bar')"
   ]
  },
  {
   "cell_type": "markdown",
   "metadata": {},
   "source": [
    "# Q2"
   ]
  },
  {
   "cell_type": "code",
   "execution_count": null,
   "metadata": {},
   "outputs": [],
   "source": []
  }
 ],
 "metadata": {
  "kernelspec": {
   "display_name": "Python 3",
   "language": "python",
   "name": "python3"
  },
  "language_info": {
   "codemirror_mode": {
    "name": "ipython",
    "version": 3
   },
   "file_extension": ".py",
   "mimetype": "text/x-python",
   "name": "python",
   "nbconvert_exporter": "python",
   "pygments_lexer": "ipython3",
   "version": "3.7.3"
  }
 },
 "nbformat": 4,
 "nbformat_minor": 2
}
